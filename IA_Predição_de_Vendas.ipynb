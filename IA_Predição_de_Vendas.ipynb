{
  "cells": [
    {
      "cell_type": "markdown",
      "metadata": {
        "id": "view-in-github",
        "colab_type": "text"
      },
      "source": [
        "<a href=\"https://colab.research.google.com/github/sergio-naito/Era_dos_dados/blob/main/IA_Predi%C3%A7%C3%A3o_de_Vendas.ipynb\" target=\"_parent\"><img src=\"https://colab.research.google.com/assets/colab-badge.svg\" alt=\"Open In Colab\"/></a>"
      ]
    },
    {
      "cell_type": "markdown",
      "metadata": {
        "id": "H6eH92ooIb_E"
      },
      "source": [
        "# <font color = blue> Mercado Profissional de Oportunidades"
      ]
    },
    {
      "cell_type": "markdown",
      "metadata": {
        "id": "B2qUN5t8bWXp"
      },
      "source": [
        "## Vagas\n",
        "\n",
        "![](https://cienciadosdados.com/images/2023/01/02/Vagas_08jan2023.png)\n",
        "\n",
        "![](https://cienciadosdados.com/images/2023/01/02/Vagas_08jan2023_zoom.png)\n",
        "\n",
        "![](https://cienciadosdados.com/images/2023/01/02/Vagas_analista_08jan2023.png)"
      ]
    },
    {
      "cell_type": "markdown",
      "metadata": {
        "id": "_dsWBOwvbaFk"
      },
      "source": [
        "## Falta de Profissionais\n",
        "\n",
        "![](https://cienciadosdados.com/images/2023/01/02/Falta_Profissionais.png)\n",
        "\n",
        "![](https://cienciadosdados.com/images/2023/01/02/Valor.png)\n",
        "\n",
        "![](https://cienciadosdados.com/images/2023/01/02/Falta_Profissionais_2.png)"
      ]
    },
    {
      "cell_type": "markdown",
      "metadata": {
        "id": "WRjTBRhIzsO3"
      },
      "source": [
        "## Salários\n",
        "\n",
        "![](https://cienciadosdados.com/images/2023/01/02/Salarios_1.png)\n",
        "\n",
        "![](https://cienciadosdados.com/images/2023/01/02/Salarios_2.png)"
      ]
    },
    {
      "cell_type": "markdown",
      "metadata": {
        "id": "itaFQyQHx8ay"
      },
      "source": [
        "\n",
        "### ![](http://fx7.com.br/wp-content/uploads/2018/11/faca-mais-com-menos-regra-80-20.png)\n",
        "### ![](http://www.leaders-model.com/wp-content/uploads/2015/10/leadership-ebook-LEADERS-infograph-gula-white.jpg)"
      ]
    },
    {
      "cell_type": "markdown",
      "metadata": {
        "id": "3JHWod5Ububv"
      },
      "source": [
        "### Logo, existia o 80/20 da **Ciência de Dados**\n",
        "### ![](https://img.freepik.com/vetores-premium/conceito-criativo-de-lampada-simbolo-de-ideia_177006-334.jpg?w=2000)\n",
        "\n",
        "\"Você sabia que o Princípio de Pareto também pode ser aplicado para impulsionar sua jornada rumo à carreira de Cientista de Dados?\n",
        "\n",
        "Deixe-me explicar como isso pode funcionar de forma atrativa e plausível."
      ]
    },
    {
      "cell_type": "markdown",
      "metadata": {
        "id": "YWQj8h361H4q"
      },
      "source": [
        "> Ao invés de se sentir sobrecarregado com a quantidade de conhecimento necessário, <font color = blue>vamos nos concentrar nos 20% mais importantes </font> que podem impulsionar 80% do seu progresso na área.\n",
        "\n",
        ">Ao invés de pensar em todo o conhecimento e habilidades necessários, **vamos nos concentrar nos 20% que podem trazer 80% dos resultados**. Isso torna a jornada para se tornar um Cientista de Dados mais acessível e factível."
      ]
    },
    {
      "cell_type": "markdown",
      "metadata": {
        "id": "RBVZdBAL2E3X"
      },
      "source": [
        "#### 20% do seu tempo para aprender\n",
        "\n",
        "#### Python\n",
        "![](https://upload.wikimedia.org/wikipedia/commons/thumb/f/f8/Python_logo_and_wordmark.svg/1024px-Python_logo_and_wordmark.svg.png)\n",
        "#### Estatística\n",
        "![](https://s1.static.brasilescola.uol.com.br/be/vestibular/graficos-tabelas-sao-objetos-basicos-para-estudo-estatistica-5812154677e56.jpg)\n",
        "#### Inteligência Artificial\n",
        "![](https://revista.algomais.com/wp-content/uploads/2023/04/IA_salud.original.jpg)\n",
        "#### Machine Learning\n",
        "![](https://miro.medium.com/v2/resize:fit:1358/1*cG6U1qstYDijh9bPL42e-Q.jpeg)\n",
        "### <font color = blue >Todas com foco 100% Prático"
      ]
    },
    {
      "cell_type": "markdown",
      "metadata": {
        "id": "TrWphj2y3POQ"
      },
      "source": [
        "## A carreira de Cientista de Dados é emocionante e desafiadora, com uma demanda crescente e diversas oportunidades. Ao aplicar o Princípio de Pareto e concentrar-se nos 20% mais importantes, você estará maximizando seu potencial de progresso e desenvolvimento nessa área promissora.\""
      ]
    },
    {
      "cell_type": "markdown",
      "metadata": {
        "id": "Ul6dEMUYBcfO"
      },
      "source": []
    },
    {
      "cell_type": "markdown",
      "metadata": {
        "id": "WnILhzAMiP9k"
      },
      "source": [
        "# ![alt text](https://encrypted-tbn0.gstatic.com/images?q=tbn%3AANd9GcTK4gQ9nhwHHaSXMHpeggWg7twwMCgb877smkRmtkmDeDoGF9Z6&usqp=CAU)"
      ]
    },
    {
      "cell_type": "markdown",
      "metadata": {
        "id": "9xtrXghHknMy"
      },
      "source": [
        "# ![](https://cienciadosdados.com/images/2023/06/capa-script-live1.png)"
      ]
    },
    {
      "cell_type": "markdown",
      "metadata": {
        "id": "KprKQy5IR1c9"
      },
      "source": [
        "# <font color = blue>Mini Treinamento de IA em Predição de Vendas\n",
        "\n",
        "\n",
        "\n"
      ]
    },
    {
      "cell_type": "markdown",
      "metadata": {
        "id": "ps2kL5h5Pykd"
      },
      "source": [
        "## ![](https://miro.medium.com/v2/resize:fit:679/0*Yb_BsikIKFAtuKj9.gif)\n",
        "\n"
      ]
    },
    {
      "cell_type": "markdown",
      "metadata": {
        "id": "g9sJq55pdYf3"
      },
      "source": [
        "##![](https://cienciadosdados.com/images/2022/05/pipeline.png)\n",
        "[](https://cienciadosdados.com/images/2021/Design_sem_nome_10.png)"
      ]
    },
    {
      "cell_type": "markdown",
      "metadata": {
        "id": "UBdmUt4_SREA"
      },
      "source": [
        "#1° Entendimento do Problema de Negócio\n"
      ]
    },
    {
      "cell_type": "markdown",
      "metadata": {
        "id": "U5kDi8aIWYa_"
      },
      "source": [
        "\n",
        "A empresa solicitou a equipe de Ciência de Dados que desenvolvessem uma metodologia Preditiva que utilizasse IA com o objetivo de encontrar, entre seus Leads, quais são aqueles que estão mais propensos a comprarem seu produto, dada uma campanha de Marketing.\n",
        "\n",
        "Ou seja, a empresa quer saber se, o cliente fosse atingido por uma campanha de marketing, qual seria o resultado:\n",
        "> O cliente compra\n",
        "\n",
        "ou\n",
        "\n",
        "> O cliente não compra"
      ]
    },
    {
      "cell_type": "markdown",
      "metadata": {
        "id": "R7T4l9qrqA0H"
      },
      "source": [
        "\n",
        "### ![](data:image/png;base64,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)"
      ]
    },
    {
      "cell_type": "markdown",
      "metadata": {
        "id": "F9e67tN0QjnU"
      },
      "source": [
        "### Com esse Mão na massa, vc já terá condições de realizar:\n",
        "\n",
        "> Realizar instruções ao Computador com Python\n",
        "\n",
        "> Produzir Relatório Automatizado de Dados\n",
        "\n",
        "> Produzir Estatísticas sobre os Dados do dataset\n",
        "\n",
        "> Produzir Dashboads Automáticos dos Dados do dataset"
      ]
    },
    {
      "cell_type": "markdown",
      "metadata": {
        "id": "SKVYCElyOo0O"
      },
      "source": [
        "## <Font color = blue>Instruções Iniciais"
      ]
    },
    {
      "cell_type": "markdown",
      "metadata": {
        "id": "V5HbaNFfOt1w"
      },
      "source": [
        "1° Passo: Você precisa ter um email do Google gmail\n",
        "\n",
        "2° Passo: Você Precisa acessar o endereço: https://colab.research.google.com/\n",
        "\n",
        "3° Passo: Realizar o login com sua conta do gmail\n"
      ]
    },
    {
      "cell_type": "markdown",
      "metadata": {
        "id": "f2ynYTW2Ty76"
      },
      "source": [
        "#2° Análise Exploratória dos Dados"
      ]
    },
    {
      "cell_type": "code",
      "execution_count": null,
      "metadata": {
        "id": "qeGnxxf7T30t"
      },
      "outputs": [],
      "source": [
        "# Biblioteca Python para Análise de Dados\n",
        "!pip install pandas-profiling# Biblioteca Python para Análise de Dados\n",
        "!pip install pandas-profiling"
      ]
    },
    {
      "cell_type": "code",
      "execution_count": null,
      "metadata": {
        "id": "XMWYXQbnUblA"
      },
      "outputs": [],
      "source": [
        "# Biblioteca Python para Realizar o acesso aos Dados\n",
        "!pip install gdown"
      ]
    },
    {
      "cell_type": "code",
      "execution_count": null,
      "metadata": {
        "id": "3BZDiOc7UO4-"
      },
      "outputs": [],
      "source": [
        "#Bibliotecas a serem utilizadas\n",
        "import gdown\n",
        "import pandas as pd\n",
        "from pandas_profiling import ProfileReport"
      ]
    },
    {
      "cell_type": "markdown",
      "metadata": {
        "id": "gADqLLmBUt4r"
      },
      "source": [
        "> No código abaixo, vc faz o download dos dados que iremos utilizar para criar nossa Análise dos Dados."
      ]
    },
    {
      "cell_type": "code",
      "execution_count": null,
      "metadata": {
        "id": "3GSrp8yYUk1e"
      },
      "outputs": [],
      "source": [
        "# URL do arquivo do Google Drive\n",
        "url = 'https://drive.google.com/file/d/1_kq8cZ4JZVsYw0BamYfiohSngLIJkoVb/view?usp=sharing'\n",
        "output = 'dataset.csv'  # nome do arquivo que será salvo localmente\n",
        "\n",
        "# Transformando o link compartilhado em um link direto para download\n",
        "file_id = url.split('/')[-2]\n",
        "\n",
        "dwn_url='https://drive.google.com/uc?id=' + file_id\n",
        "\n",
        "# Fazendo o download do arquivo\n",
        "gdown.download(dwn_url, output, quiet=False)\n"
      ]
    },
    {
      "cell_type": "code",
      "execution_count": null,
      "metadata": {
        "id": "9ygtAobzUrmY"
      },
      "outputs": [],
      "source": [
        "# Carregando o arquivo CSV com o pandas\n",
        "df = pd.read_csv(output, delimiter=',')\n",
        "\n",
        "# Mostrando as primeiras linhas do dataframe\n",
        "df.head()"
      ]
    },
    {
      "cell_type": "code",
      "execution_count": null,
      "metadata": {
        "id": "44ngV_KFUD9w"
      },
      "outputs": [],
      "source": [
        "import pandas as pd\n",
        "from pandas_profiling import ProfileReport\n",
        "from IPython.display import display, HTML\n",
        "\n",
        "# Crie o relatório de perfil usando o Pandas Profiling\n",
        "profile = ProfileReport(df)\n",
        "\n",
        "# Salve o relatório em HTML\n",
        "profile.to_file(\"output.html\")\n",
        "\n",
        "# Exiba o relatório de perfil\n",
        "display(HTML(profile.to_html()))\n"
      ]
    },
    {
      "cell_type": "markdown",
      "metadata": {
        "id": "n1ehVzRIIwuo"
      },
      "source": [
        "# 3° Processamento de Dados"
      ]
    },
    {
      "cell_type": "markdown",
      "metadata": {
        "id": "fmi918Sb7jIR"
      },
      "source": [
        "### Importação das bibliotecas"
      ]
    },
    {
      "cell_type": "code",
      "execution_count": null,
      "metadata": {
        "id": "xJL3PY4hIy9N"
      },
      "outputs": [],
      "source": [
        "# Manipulação de Dados\n",
        "import pandas as pd\n",
        "import numpy as np\n",
        "\n",
        "# Bibliotecas de IA - Machine Learning e Automações\n",
        "from sklearn.pipeline import make_pipeline\n",
        "from sklearn.model_selection import train_test_split\n",
        "from sklearn.preprocessing import StandardScaler, OneHotEncoder\n",
        "from sklearn.compose import ColumnTransformer\n",
        "from imblearn.over_sampling import SMOTE\n",
        "from lightgbm import LGBMClassifier\n",
        "from sklearn.metrics import classification_report, accuracy_score\n",
        "import pickle"
      ]
    },
    {
      "cell_type": "markdown",
      "metadata": {
        "id": "hbAKOU4B8MSN"
      },
      "source": [
        "### Amostragem dos dados"
      ]
    },
    {
      "cell_type": "code",
      "execution_count": null,
      "metadata": {
        "id": "8UsSK51J8I-B"
      },
      "outputs": [],
      "source": [
        "# Separar features e target\n",
        "X = df.drop('prevendas', axis=1)\n",
        "y = df['prevendas']\n",
        "\n",
        "# Dividir os dados em conjuntos de treinamento e teste\n",
        "X_train, X_test, y_train, y_test = train_test_split(X, y, test_size=0.2, random_state=42)"
      ]
    },
    {
      "cell_type": "markdown",
      "metadata": {
        "id": "MzXQ9zfI8W-d"
      },
      "source": [
        "### Engenharia de Atributos"
      ]
    },
    {
      "cell_type": "code",
      "execution_count": null,
      "metadata": {
        "id": "exHEsVPu8VlE"
      },
      "outputs": [],
      "source": [
        "# Listar as colunas numéricas e categóricas\n",
        "numeric_features = X.select_dtypes(include=[np.number]).columns\n",
        "categorical_features = X.select_dtypes(include=['object']).columns\n",
        "\n",
        "# Criar os transformers para pré-processamento\n",
        "numeric_transformer = StandardScaler()\n",
        "categorical_transformer = OneHotEncoder(sparse=False)\n",
        "\n",
        "# Criar o ColumnTransformer para aplicar as transformações nas colunas apropriadas\n",
        "preprocessor = ColumnTransformer(\n",
        "    transformers=[\n",
        "        ('num', numeric_transformer, numeric_features),\n",
        "        ('cat', categorical_transformer, categorical_features)\n",
        "    ])\n",
        "\n",
        "# Aplicar as transformações no preprocessor\n",
        "X_train_preprocessed = preprocessor.fit_transform(X_train)\n",
        "numeric_columns = numeric_features.tolist()\n",
        "categorical_columns = preprocessor.transformers_[1][1].get_feature_names_out(categorical_features)\n",
        "all_columns = numeric_columns + list(categorical_columns)\n",
        "X_train_preprocessed = pd.DataFrame(X_train_preprocessed, columns=all_columns)\n",
        "\n"
      ]
    },
    {
      "cell_type": "code",
      "execution_count": null,
      "metadata": {
        "id": "BCML33xS8hkW"
      },
      "outputs": [],
      "source": [
        "# Cria Dados Sintéticos para resolver o problema de Desbalanceamento do Target\n",
        "sm = SMOTE(random_state=42)\n",
        "X_train_resampled, y_train_resampled = sm.fit_resample(X_train_preprocessed, y_train)\n",
        "\n"
      ]
    },
    {
      "cell_type": "markdown",
      "metadata": {
        "id": "9-9JOi058tBg"
      },
      "source": [
        "#4° Construção e Avaliação da IA Preditiva de Vendas"
      ]
    },
    {
      "cell_type": "markdown",
      "metadata": {
        "id": "c14LI4u38zo1"
      },
      "source": [
        "### Escolha do Algoritmo de Machine Learning e Treinamento com os Dados"
      ]
    },
    {
      "cell_type": "code",
      "execution_count": null,
      "metadata": {
        "id": "l3huXK0M8tUK"
      },
      "outputs": [],
      "source": [
        "# Escolher um algoritmo de aprendizado de máquina\n",
        "model = LGBMClassifier(n_estimators=200)\n",
        "\n",
        "# Treinar o modelo no conjunto de treinamento\n",
        "pipeline = make_pipeline(model)\n",
        "pipeline.fit(X_train_resampled, y_train_resampled)\n",
        "\n",
        "# Aplicar as mesmas transformações no conjunto de teste\n",
        "X_test_preprocessed = preprocessor.transform(X_test)\n",
        "X_test_preprocessed = pd.DataFrame(X_test_preprocessed, columns=all_columns)\n",
        "\n"
      ]
    },
    {
      "cell_type": "code",
      "execution_count": null,
      "metadata": {
        "id": "8hIeiq8B4tqe"
      },
      "outputs": [],
      "source": []
    },
    {
      "cell_type": "code",
      "execution_count": null,
      "metadata": {
        "id": "5ufuoz0A88xi"
      },
      "outputs": [],
      "source": [
        "# Avaliar o modelo no conjunto de teste\n",
        "y_pred = pipeline.predict(X_test_preprocessed)\n",
        "\n",
        "# Métricas de avaliação\n",
        "print('Acurácia:', accuracy_score(y_test, y_pred))\n",
        "print('\\nClassification Report:\\n', classification_report(y_test, y_pred))\n",
        "\n",
        "\n"
      ]
    },
    {
      "cell_type": "markdown",
      "metadata": {
        "id": "ta20BnXQ9Keu"
      },
      "source": [
        "### Lista das Variáveis mais Importantes da IA"
      ]
    },
    {
      "cell_type": "code",
      "execution_count": null,
      "metadata": {
        "id": "pbvsV7vgKqyk"
      },
      "outputs": [],
      "source": [
        "import plotly.express as px\n",
        "import plotly.graph_objects as go\n",
        "\n",
        "# Obter a importância das variáveis\n",
        "importance = pipeline.named_steps['lgbmclassifier'].feature_importances_\n",
        "feature_names = all_columns\n",
        "\n",
        "# Criar um DataFrame com a importância das variáveis\n",
        "importance_df = pd.DataFrame({'Feature': feature_names, 'Importance': importance})\n",
        "\n",
        "# Ordenar o DataFrame pela importância das variáveis em ordem decrescente\n",
        "importance_df = importance_df.sort_values(by='Importance', ascending=False)\n",
        "\n",
        "# Criar o gráfico de barras da importância das variáveis usando o Plotly\n",
        "fig = go.Figure(data=[go.Bar(x=importance_df['Importance'], y=importance_df['Feature'], orientation='h')])\n",
        "fig.update_layout(\n",
        "    title='Importância das Variáveis',\n",
        "    xaxis_title='Importância',\n",
        "    yaxis_title='Variáveis'\n",
        ")\n",
        "# Inverta a ordem do eixo y para que o recurso mais importante esteja no topo\n",
        "fig.update_yaxes(autorange=\"reversed\")\n",
        "\n",
        "fig.show()"
      ]
    },
    {
      "cell_type": "markdown",
      "metadata": {
        "id": "RbaNpE279Byd"
      },
      "source": [
        "### Salvamento da IA"
      ]
    },
    {
      "cell_type": "code",
      "execution_count": null,
      "metadata": {
        "id": "3xLSUOTd9CG9"
      },
      "outputs": [],
      "source": [
        "# Salvar o modelo treinado, o pré-processador e os nomes das colunas em um arquivo\n",
        "with open('model.pkl', 'wb') as f:\n",
        "    pickle.dump({\n",
        "        'model': pipeline,\n",
        "        'preprocessor': preprocessor,\n",
        "        'columns': all_columns\n",
        "    }, f)"
      ]
    },
    {
      "cell_type": "markdown",
      "metadata": {
        "id": "k_b5i9qLBDvX"
      },
      "source": [
        "![](https://medicinasa.com.br/wp-content/uploads/2021/08/pulmao-artificial-digital-imagem.gif)"
      ]
    },
    {
      "cell_type": "markdown",
      "metadata": {
        "id": "Jo4Nt5zFWnSr"
      },
      "source": [
        "#**5° Implementação da IA Preditiva de Vendas - Deploy**"
      ]
    },
    {
      "cell_type": "markdown",
      "metadata": {
        "id": "_R99pp1988nn"
      },
      "source": [
        "### Avaliação da IA com as Métricas"
      ]
    },
    {
      "cell_type": "markdown",
      "metadata": {
        "id": "D1eIq6YBcj2t"
      },
      "source": [
        "## Acessar o **ngrok**\n",
        "https://ngrok.com/\n",
        "\n",
        "![](https://cienciadosdados.com/images/2023/06/ngrok.png)\n",
        " **O ngrok** é uma ferramenta que permite criar um túnel seguro entre sua máquina local e a internet\n",
        "\n",
        " Ele não é uma solução de hospedagem permanente para implantar um aplicativo.\n",
        "\n",
        " É usado principalmente como uma ferramenta de desenvolvimento para fins de compartilhamento temporário.\n",
        "\n",
        "\n",
        "###**Passo-a-Passo**\n",
        "\n",
        "1° Passo: Download do Ngrok\n",
        "\n",
        "2° Passo: Instalação\n",
        "\n",
        "3° Acessar o Token"
      ]
    },
    {
      "cell_type": "code",
      "execution_count": null,
      "metadata": {
        "id": "DvYU1dMj0-zD"
      },
      "outputs": [],
      "source": [
        "#Instalação das Bibliotecas\n",
        "!pip install streamlit\n",
        "!pip install pyngrok==4.1.1"
      ]
    },
    {
      "cell_type": "markdown",
      "metadata": {
        "id": "AtXCGC40fYAF"
      },
      "source": [
        "##### Criação do script do app no streamlit"
      ]
    },
    {
      "cell_type": "code",
      "execution_count": null,
      "metadata": {
        "id": "gWIVXcDQ4Oyn"
      },
      "outputs": [],
      "source": [
        "%%writefile streamlit_app.py\n",
        "import streamlit as st\n",
        "import pandas as pd\n",
        "import numpy as np\n",
        "import pickle\n",
        "\n",
        "def load_model():\n",
        "    with open('model.pkl', 'rb') as f:\n",
        "        data = pickle.load(f)\n",
        "    model = data['model']\n",
        "    preprocessor = data['preprocessor']\n",
        "    all_columns = data['columns']\n",
        "    return model, preprocessor, all_columns\n",
        "\n",
        "def predict(model, preprocessor, inputs, all_columns):\n",
        "    df = pd.DataFrame([inputs])\n",
        "    df = pd.DataFrame(preprocessor.transform(df), columns=all_columns)\n",
        "    prediction = model.predict(df)\n",
        "    return prediction\n",
        "\n",
        "model, preprocessor, all_columns = load_model()\n",
        "\n",
        "print(model)\n",
        "print(\"-------\")\n",
        "print(preprocessor)\n",
        "print(\"-------\")\n",
        "print(all_columns)\n",
        "\n",
        "#sys.exit(0)\n",
        "\n",
        "st.title('IA de Previsão de Vendas')\n",
        "st.write('Insira os dados abaixo:')\n",
        "\n",
        "inputs = {\n",
        "    'idade': st.slider('Idade', min_value=18, max_value=100, value=40),\n",
        "    'emprego': st.selectbox('Profissão', options=['gerente', 'técnico', 'empreendedor', 'trabalhador-manual', 'desconhecido', 'aposentado', 'administrativo', 'serviços', 'autônomo', 'desempregado', 'doméstica', 'estudante']),\n",
        "    'estado_civil': st.selectbox('Estado Civil', options=['casado', 'solteiro', 'divorciado']),\n",
        "    'educacao': st.selectbox('Educação', options=['terciário', 'secundário', 'desconhecido', 'primário']),\n",
        "    'padrao': st.selectbox('Inadimplente', options=['não', 'sim']),\n",
        "    'saldo': st.number_input('Saldo', min_value=-10000, max_value=100000, value=0),\n",
        "    'moradia': st.selectbox('Empréstimo Imobiliário', options=['sim', 'não']),\n",
        "    'emprestimo': st.selectbox('Empréstimo Pessoal', options=['sim', 'não']),\n",
        "    'contato': st.selectbox('Contato', options=['desconhecido', 'celular', 'telefone']),\n",
        "    'dia': st.slider('Dia', min_value=1, max_value=31, value=15),\n",
        "    'mes': st.selectbox('Mês', options=['maio', 'junho', 'julho', 'agosto', 'outubro', 'novembro', 'dezembro', 'janeiro', 'fevereiro', 'março', 'abril', 'setembro']),\n",
        "    'duracao': st.slider('Duração', min_value=1, max_value=5000, value=1000),\n",
        "    'campanha': st.slider('Campanha', min_value=1, max_value=100, value=10),\n",
        "    'dias_passados': st.slider('Dias Passados', min_value=-1, max_value=1000, value=-1),\n",
        "    'anterior': st.slider('Anterior', min_value=0, max_value=100, value=0),\n",
        "    'resultado_anterior': st.selectbox('Resultado Anterior', options=['desconhecido', 'fracasso', 'outro', 'sucesso'])\n",
        "}\n",
        "\n",
        "if st.button('Predict'):\n",
        "    prediction = predict(model, preprocessor, inputs, all_columns)\n",
        "    st.write('A previsão do modelo é:', 'sim' if prediction[0] == 1 else 'não')\n",
        "\n"
      ]
    },
    {
      "cell_type": "code",
      "execution_count": null,
      "metadata": {
        "id": "tWsEXM7P1Nfs"
      },
      "outputs": [],
      "source": [
        "# Token de segurança do Ngrok\n",
        "\n",
        "#original que já estava digitaeo\n",
        "#!ngrok authtoken \"2PsXeEYy7oOV5hgnF3UrRdDHwOB_5gmKKsHz23KdJHwEbtLWL\"\n",
        "\n",
        "#token que eu inclui, mas deu erro.\n",
        "#!ngrok authtoken \"2RcKuV5iQ18V3kmyfa3IP78OBDe_2d9jEyzh7VMMDE9M88tEV\"\n",
        "\n",
        "#token, apos o erro pesquisado no chatgpt e regerado o token e substituído aqui\n",
        "!ngrok authtoken \"2Rc9Nc6ZnATOwiUzPONQAm3Rss9_5Xjg23MetKXXBm7Kg2dYS\"\n"
      ]
    },
    {
      "cell_type": "code",
      "execution_count": null,
      "metadata": {
        "id": "WVgkOYoF0aqa"
      },
      "outputs": [],
      "source": [
        "# Execução do streamlit no Colab\n",
        "!streamlit run streamlit_app.py &>/dev/null&\n"
      ]
    },
    {
      "cell_type": "code",
      "execution_count": null,
      "metadata": {
        "colab": {
          "background_save": true,
          "base_uri": "https://localhost:8080/"
        },
        "id": "1LJ5wbE10dl-",
        "outputId": "e8c71495-d7d9-4c9d-e5f4-219bbbf3a39b"
      },
      "outputs": [
        {
          "name": "stdout",
          "output_type": "stream",
          "text": [
            "http://8b08-34-75-193-118.ngrok-free.app\n"
          ]
        }
      ],
      "source": [
        "# Criação da Porta de Conexão da sua máquina e a Internet\n",
        "from pyngrok import ngrok\n",
        "public_url = ngrok.connect(port='8501')\n",
        "print(public_url)\n",
        "\n",
        "!streamlit run --server.port 80 streamlit_app.py >/dev/null"
      ]
    },
    {
      "cell_type": "markdown",
      "metadata": {
        "id": "YpgjLfbZirGH"
      },
      "source": [
        "#Abaixo estão alguns testes que eu fiz, para verificar se encontro alguma condição com previsão = \"sim\".\n",
        "\n"
      ]
    },
    {
      "cell_type": "code",
      "execution_count": null,
      "metadata": {
        "colab": {
          "base_uri": "https://localhost:8080/",
          "height": 427
        },
        "id": "XaYdJP9h49Nj",
        "outputId": "6b003f9f-e955-4451-8356-9c89674fad4b"
      },
      "outputs": [
        {
          "data": {
            "text/html": [
              "\n",
              "  <div id=\"df-3d6f551e-2c3a-4087-b230-f355780d23db\">\n",
              "    <div class=\"colab-df-container\">\n",
              "      <div>\n",
              "<style scoped>\n",
              "    .dataframe tbody tr th:only-of-type {\n",
              "        vertical-align: middle;\n",
              "    }\n",
              "\n",
              "    .dataframe tbody tr th {\n",
              "        vertical-align: top;\n",
              "    }\n",
              "\n",
              "    .dataframe thead th {\n",
              "        text-align: right;\n",
              "    }\n",
              "</style>\n",
              "<table border=\"1\" class=\"dataframe\">\n",
              "  <thead>\n",
              "    <tr style=\"text-align: right;\">\n",
              "      <th></th>\n",
              "      <th>idade</th>\n",
              "      <th>emprego</th>\n",
              "      <th>estado_civil</th>\n",
              "      <th>educacao</th>\n",
              "      <th>padrao</th>\n",
              "      <th>saldo</th>\n",
              "      <th>moradia</th>\n",
              "      <th>emprestimo</th>\n",
              "      <th>contato</th>\n",
              "      <th>dia</th>\n",
              "      <th>mes</th>\n",
              "      <th>duracao</th>\n",
              "      <th>campanha</th>\n",
              "      <th>dias_passados</th>\n",
              "      <th>anterior</th>\n",
              "      <th>resultado_anterior</th>\n",
              "      <th>prevendas</th>\n",
              "    </tr>\n",
              "  </thead>\n",
              "  <tbody>\n",
              "    <tr>\n",
              "      <th>83</th>\n",
              "      <td>59</td>\n",
              "      <td>administrativo</td>\n",
              "      <td>casado</td>\n",
              "      <td>secundário</td>\n",
              "      <td>não</td>\n",
              "      <td>2343</td>\n",
              "      <td>sim</td>\n",
              "      <td>não</td>\n",
              "      <td>desconhecido</td>\n",
              "      <td>5</td>\n",
              "      <td>maio</td>\n",
              "      <td>1042</td>\n",
              "      <td>1</td>\n",
              "      <td>-1</td>\n",
              "      <td>0</td>\n",
              "      <td>desconhecido</td>\n",
              "      <td>sim</td>\n",
              "    </tr>\n",
              "    <tr>\n",
              "      <th>86</th>\n",
              "      <td>56</td>\n",
              "      <td>administrativo</td>\n",
              "      <td>casado</td>\n",
              "      <td>secundário</td>\n",
              "      <td>não</td>\n",
              "      <td>45</td>\n",
              "      <td>não</td>\n",
              "      <td>não</td>\n",
              "      <td>desconhecido</td>\n",
              "      <td>5</td>\n",
              "      <td>maio</td>\n",
              "      <td>1467</td>\n",
              "      <td>1</td>\n",
              "      <td>-1</td>\n",
              "      <td>0</td>\n",
              "      <td>desconhecido</td>\n",
              "      <td>sim</td>\n",
              "    </tr>\n",
              "    <tr>\n",
              "      <th>87</th>\n",
              "      <td>41</td>\n",
              "      <td>técnico</td>\n",
              "      <td>casado</td>\n",
              "      <td>secundário</td>\n",
              "      <td>não</td>\n",
              "      <td>1270</td>\n",
              "      <td>sim</td>\n",
              "      <td>não</td>\n",
              "      <td>desconhecido</td>\n",
              "      <td>5</td>\n",
              "      <td>maio</td>\n",
              "      <td>1389</td>\n",
              "      <td>1</td>\n",
              "      <td>-1</td>\n",
              "      <td>0</td>\n",
              "      <td>desconhecido</td>\n",
              "      <td>sim</td>\n",
              "    </tr>\n",
              "    <tr>\n",
              "      <th>129</th>\n",
              "      <td>55</td>\n",
              "      <td>serviços</td>\n",
              "      <td>casado</td>\n",
              "      <td>secundário</td>\n",
              "      <td>não</td>\n",
              "      <td>2476</td>\n",
              "      <td>sim</td>\n",
              "      <td>não</td>\n",
              "      <td>desconhecido</td>\n",
              "      <td>5</td>\n",
              "      <td>maio</td>\n",
              "      <td>579</td>\n",
              "      <td>1</td>\n",
              "      <td>-1</td>\n",
              "      <td>0</td>\n",
              "      <td>desconhecido</td>\n",
              "      <td>sim</td>\n",
              "    </tr>\n",
              "    <tr>\n",
              "      <th>168</th>\n",
              "      <td>54</td>\n",
              "      <td>administrativo</td>\n",
              "      <td>casado</td>\n",
              "      <td>terciário</td>\n",
              "      <td>não</td>\n",
              "      <td>184</td>\n",
              "      <td>não</td>\n",
              "      <td>não</td>\n",
              "      <td>desconhecido</td>\n",
              "      <td>5</td>\n",
              "      <td>maio</td>\n",
              "      <td>673</td>\n",
              "      <td>2</td>\n",
              "      <td>-1</td>\n",
              "      <td>0</td>\n",
              "      <td>desconhecido</td>\n",
              "      <td>sim</td>\n",
              "    </tr>\n",
              "    <tr>\n",
              "      <th>270</th>\n",
              "      <td>42</td>\n",
              "      <td>gerente</td>\n",
              "      <td>solteiro</td>\n",
              "      <td>terciário</td>\n",
              "      <td>não</td>\n",
              "      <td>0</td>\n",
              "      <td>sim</td>\n",
              "      <td>sim</td>\n",
              "      <td>desconhecido</td>\n",
              "      <td>5</td>\n",
              "      <td>maio</td>\n",
              "      <td>562</td>\n",
              "      <td>2</td>\n",
              "      <td>-1</td>\n",
              "      <td>0</td>\n",
              "      <td>desconhecido</td>\n",
              "      <td>sim</td>\n",
              "    </tr>\n",
              "    <tr>\n",
              "      <th>388</th>\n",
              "      <td>56</td>\n",
              "      <td>gerente</td>\n",
              "      <td>casado</td>\n",
              "      <td>terciário</td>\n",
              "      <td>não</td>\n",
              "      <td>830</td>\n",
              "      <td>sim</td>\n",
              "      <td>sim</td>\n",
              "      <td>desconhecido</td>\n",
              "      <td>6</td>\n",
              "      <td>maio</td>\n",
              "      <td>1201</td>\n",
              "      <td>1</td>\n",
              "      <td>-1</td>\n",
              "      <td>0</td>\n",
              "      <td>desconhecido</td>\n",
              "      <td>sim</td>\n",
              "    </tr>\n",
              "    <tr>\n",
              "      <th>390</th>\n",
              "      <td>60</td>\n",
              "      <td>aposentado</td>\n",
              "      <td>divorciado</td>\n",
              "      <td>secundário</td>\n",
              "      <td>não</td>\n",
              "      <td>545</td>\n",
              "      <td>sim</td>\n",
              "      <td>não</td>\n",
              "      <td>desconhecido</td>\n",
              "      <td>6</td>\n",
              "      <td>maio</td>\n",
              "      <td>1030</td>\n",
              "      <td>1</td>\n",
              "      <td>-1</td>\n",
              "      <td>0</td>\n",
              "      <td>desconhecido</td>\n",
              "      <td>sim</td>\n",
              "    </tr>\n",
              "    <tr>\n",
              "      <th>446</th>\n",
              "      <td>39</td>\n",
              "      <td>técnico</td>\n",
              "      <td>solteiro</td>\n",
              "      <td>desconhecido</td>\n",
              "      <td>não</td>\n",
              "      <td>45248</td>\n",
              "      <td>sim</td>\n",
              "      <td>não</td>\n",
              "      <td>desconhecido</td>\n",
              "      <td>6</td>\n",
              "      <td>maio</td>\n",
              "      <td>1623</td>\n",
              "      <td>1</td>\n",
              "      <td>-1</td>\n",
              "      <td>0</td>\n",
              "      <td>desconhecido</td>\n",
              "      <td>sim</td>\n",
              "    </tr>\n",
              "    <tr>\n",
              "      <th>457</th>\n",
              "      <td>37</td>\n",
              "      <td>técnico</td>\n",
              "      <td>casado</td>\n",
              "      <td>secundário</td>\n",
              "      <td>não</td>\n",
              "      <td>1</td>\n",
              "      <td>sim</td>\n",
              "      <td>não</td>\n",
              "      <td>desconhecido</td>\n",
              "      <td>6</td>\n",
              "      <td>maio</td>\n",
              "      <td>608</td>\n",
              "      <td>1</td>\n",
              "      <td>-1</td>\n",
              "      <td>0</td>\n",
              "      <td>desconhecido</td>\n",
              "      <td>sim</td>\n",
              "    </tr>\n",
              "  </tbody>\n",
              "</table>\n",
              "</div>\n",
              "      <button class=\"colab-df-convert\" onclick=\"convertToInteractive('df-3d6f551e-2c3a-4087-b230-f355780d23db')\"\n",
              "              title=\"Convert this dataframe to an interactive table.\"\n",
              "              style=\"display:none;\">\n",
              "        \n",
              "  <svg xmlns=\"http://www.w3.org/2000/svg\" height=\"24px\"viewBox=\"0 0 24 24\"\n",
              "       width=\"24px\">\n",
              "    <path d=\"M0 0h24v24H0V0z\" fill=\"none\"/>\n",
              "    <path d=\"M18.56 5.44l.94 2.06.94-2.06 2.06-.94-2.06-.94-.94-2.06-.94 2.06-2.06.94zm-11 1L8.5 8.5l.94-2.06 2.06-.94-2.06-.94L8.5 2.5l-.94 2.06-2.06.94zm10 10l.94 2.06.94-2.06 2.06-.94-2.06-.94-.94-2.06-.94 2.06-2.06.94z\"/><path d=\"M17.41 7.96l-1.37-1.37c-.4-.4-.92-.59-1.43-.59-.52 0-1.04.2-1.43.59L10.3 9.45l-7.72 7.72c-.78.78-.78 2.05 0 2.83L4 21.41c.39.39.9.59 1.41.59.51 0 1.02-.2 1.41-.59l7.78-7.78 2.81-2.81c.8-.78.8-2.07 0-2.86zM5.41 20L4 18.59l7.72-7.72 1.47 1.35L5.41 20z\"/>\n",
              "  </svg>\n",
              "      </button>\n",
              "      \n",
              "  <style>\n",
              "    .colab-df-container {\n",
              "      display:flex;\n",
              "      flex-wrap:wrap;\n",
              "      gap: 12px;\n",
              "    }\n",
              "\n",
              "    .colab-df-convert {\n",
              "      background-color: #E8F0FE;\n",
              "      border: none;\n",
              "      border-radius: 50%;\n",
              "      cursor: pointer;\n",
              "      display: none;\n",
              "      fill: #1967D2;\n",
              "      height: 32px;\n",
              "      padding: 0 0 0 0;\n",
              "      width: 32px;\n",
              "    }\n",
              "\n",
              "    .colab-df-convert:hover {\n",
              "      background-color: #E2EBFA;\n",
              "      box-shadow: 0px 1px 2px rgba(60, 64, 67, 0.3), 0px 1px 3px 1px rgba(60, 64, 67, 0.15);\n",
              "      fill: #174EA6;\n",
              "    }\n",
              "\n",
              "    [theme=dark] .colab-df-convert {\n",
              "      background-color: #3B4455;\n",
              "      fill: #D2E3FC;\n",
              "    }\n",
              "\n",
              "    [theme=dark] .colab-df-convert:hover {\n",
              "      background-color: #434B5C;\n",
              "      box-shadow: 0px 1px 3px 1px rgba(0, 0, 0, 0.15);\n",
              "      filter: drop-shadow(0px 1px 2px rgba(0, 0, 0, 0.3));\n",
              "      fill: #FFFFFF;\n",
              "    }\n",
              "  </style>\n",
              "\n",
              "      <script>\n",
              "        const buttonEl =\n",
              "          document.querySelector('#df-3d6f551e-2c3a-4087-b230-f355780d23db button.colab-df-convert');\n",
              "        buttonEl.style.display =\n",
              "          google.colab.kernel.accessAllowed ? 'block' : 'none';\n",
              "\n",
              "        async function convertToInteractive(key) {\n",
              "          const element = document.querySelector('#df-3d6f551e-2c3a-4087-b230-f355780d23db');\n",
              "          const dataTable =\n",
              "            await google.colab.kernel.invokeFunction('convertToInteractive',\n",
              "                                                     [key], {});\n",
              "          if (!dataTable) return;\n",
              "\n",
              "          const docLinkHtml = 'Like what you see? Visit the ' +\n",
              "            '<a target=\"_blank\" href=https://colab.research.google.com/notebooks/data_table.ipynb>data table notebook</a>'\n",
              "            + ' to learn more about interactive tables.';\n",
              "          element.innerHTML = '';\n",
              "          dataTable['output_type'] = 'display_data';\n",
              "          await google.colab.output.renderOutput(dataTable, element);\n",
              "          const docLink = document.createElement('div');\n",
              "          docLink.innerHTML = docLinkHtml;\n",
              "          element.appendChild(docLink);\n",
              "        }\n",
              "      </script>\n",
              "    </div>\n",
              "  </div>\n",
              "  "
            ],
            "text/plain": [
              "     idade         emprego estado_civil      educacao padrao  saldo moradia  \\\n",
              "83      59  administrativo       casado    secundário    não   2343     sim   \n",
              "86      56  administrativo       casado    secundário    não     45     não   \n",
              "87      41         técnico       casado    secundário    não   1270     sim   \n",
              "129     55        serviços       casado    secundário    não   2476     sim   \n",
              "168     54  administrativo       casado     terciário    não    184     não   \n",
              "270     42         gerente     solteiro     terciário    não      0     sim   \n",
              "388     56         gerente       casado     terciário    não    830     sim   \n",
              "390     60      aposentado   divorciado    secundário    não    545     sim   \n",
              "446     39         técnico     solteiro  desconhecido    não  45248     sim   \n",
              "457     37         técnico       casado    secundário    não      1     sim   \n",
              "\n",
              "    emprestimo       contato  dia   mes  duracao  campanha  dias_passados  \\\n",
              "83         não  desconhecido    5  maio     1042         1             -1   \n",
              "86         não  desconhecido    5  maio     1467         1             -1   \n",
              "87         não  desconhecido    5  maio     1389         1             -1   \n",
              "129        não  desconhecido    5  maio      579         1             -1   \n",
              "168        não  desconhecido    5  maio      673         2             -1   \n",
              "270        sim  desconhecido    5  maio      562         2             -1   \n",
              "388        sim  desconhecido    6  maio     1201         1             -1   \n",
              "390        não  desconhecido    6  maio     1030         1             -1   \n",
              "446        não  desconhecido    6  maio     1623         1             -1   \n",
              "457        não  desconhecido    6  maio      608         1             -1   \n",
              "\n",
              "     anterior resultado_anterior prevendas  \n",
              "83          0       desconhecido       sim  \n",
              "86          0       desconhecido       sim  \n",
              "87          0       desconhecido       sim  \n",
              "129         0       desconhecido       sim  \n",
              "168         0       desconhecido       sim  \n",
              "270         0       desconhecido       sim  \n",
              "388         0       desconhecido       sim  \n",
              "390         0       desconhecido       sim  \n",
              "446         0       desconhecido       sim  \n",
              "457         0       desconhecido       sim  "
            ]
          },
          "execution_count": 67,
          "metadata": {},
          "output_type": "execute_result"
        }
      ],
      "source": [
        "prev_sim = df.loc[(df['prevendas'] == 'sim')]\n",
        "\n",
        "prev_sim.head(10)\n",
        "\n",
        "#eu acho que não dá certo, pois podem ser que não estão no arquivo y_train.\n"
      ]
    },
    {
      "cell_type": "markdown",
      "metadata": {
        "id": "ejs2Qck67QFt"
      },
      "source": [
        "#copiei o resultado neste arquivo TEXTO.\n",
        "\n",
        "\n",
        "idade\temprego\testado_civil\teducacao\tpadrao\tsaldo\tmoradia\temprestimo\tcontato\tdia\tmes\tduracao\tcampanha\tdias_passados\tanterior\tresultado_anterior\tprevendas\n",
        "83\t59\tadministrativo\tcasado\tsecundário\tnão\t2343\tsim\tnão\tdesconhecido\t5\tmaio\t1042\t1\t-1\t0\tdesconhecido\tsim\n",
        "\n",
        "86\t56\tadministrativo\tcasado\tsecundário\tnão\t45\tnão\tnão\tdesconhecido\t5\tmaio\t1467\t1\t-1\t0\tdesconhecido\tsim\n",
        "\n",
        "87\t41\ttécnico\tcasado\tsecundário\tnão\t1270\tsim\tnão\tdesconhecido\t5\tmaio\t1389\t1\t-1\t0\tdesconhecido\tsim\n",
        "\n",
        "129\t55\tserviços\tcasado\tsecundário\tnão\t2476\tsim\tnão\tdesconhecido\t5\tmaio\t579\t1\t-1\t0\tdesconhecido\tsim\n",
        "\n",
        "168\t54\tadministrativo"
      ]
    },
    {
      "cell_type": "code",
      "execution_count": null,
      "metadata": {
        "colab": {
          "base_uri": "https://localhost:8080/"
        },
        "id": "DEf95rJVRxKE",
        "outputId": "bd486a09-783a-49b4-e128-09df4b1b0d55"
      },
      "outputs": [
        {
          "name": "stdout",
          "output_type": "stream",
          "text": [
            "3344     não\n",
            "17965    não\n",
            "18299    não\n",
            "10221    não\n",
            "32192    sim\n",
            "        ... \n",
            "11284    sim\n",
            "44732    não\n",
            "38158    não\n",
            "860      não\n",
            "15795    não\n",
            "Name: prevendas, Length: 36168, dtype: object\n"
          ]
        }
      ],
      "source": [
        "# irei selecionar algum registro com prevendas = \"sim\".\n",
        "# usarei o registro 32.192\n",
        "\n",
        "print(y_train)"
      ]
    },
    {
      "cell_type": "markdown",
      "metadata": {
        "id": "dvaKvwadhbe9"
      },
      "source": [
        "print(y_train)\n",
        "\n",
        "# copiei o resultado neste arquivo TEXTO:\n",
        "\n",
        "\n",
        "3344     não\n",
        "17965    não\n",
        "18299    não\n",
        "10221    não\n",
        "32192    sim\n",
        "        ...\n",
        "11284    sim\n",
        "44732    não\n",
        "38158    não\n",
        "860      não\n",
        "15795    não\n",
        "Name: prevendas, Length: 36168, dtype: object"
      ]
    },
    {
      "cell_type": "code",
      "execution_count": null,
      "metadata": {
        "colab": {
          "base_uri": "https://localhost:8080/"
        },
        "id": "dJq3maB5RwUB",
        "outputId": "50727485-24ea-489d-f5e2-163dc8d9f3d7"
      },
      "outputs": [
        {
          "name": "stdout",
          "output_type": "stream",
          "text": [
            "###\n"
          ]
        },
        {
          "data": {
            "text/plain": [
              "idade                           52\n",
              "emprego                   serviços\n",
              "estado_civil                casado\n",
              "educacao                 terciário\n",
              "padrao                         não\n",
              "saldo                         3094\n",
              "moradia                        sim\n",
              "emprestimo                     não\n",
              "contato                    celular\n",
              "dia                             17\n",
              "mes                       novembro\n",
              "duracao                         96\n",
              "campanha                         1\n",
              "dias_passados                   -1\n",
              "anterior                         0\n",
              "resultado_anterior    desconhecido\n",
              "Name: 24335, dtype: object"
            ]
          },
          "execution_count": 162,
          "metadata": {},
          "output_type": "execute_result"
        }
      ],
      "source": [
        "# selecionei o registro 32.192 do arquivo X_train. Digitei no aplicativo Ia de Previsão de Vendas.\n",
        "print(\"###\")\n",
        "X_train.iloc[32192]"
      ]
    },
    {
      "cell_type": "markdown",
      "metadata": {
        "id": "pLheY06ghok1"
      },
      "source": [
        "\n",
        "\n",
        "print(\"###\")\n",
        "X_train.iloc[32192]\n",
        "\n",
        "# copiei o resultado neste arquivo TEXTO:\n",
        "###\n",
        "idade                           52\n",
        "emprego                   serviços\n",
        "estado_civil                casado\n",
        "educacao                 terciário\n",
        "padrao                         não\n",
        "saldo                         3094\n",
        "moradia                        sim\n",
        "emprestimo                     não\n",
        "contato                    celular\n",
        "dia                             17\n",
        "mes                       novembro\n",
        "duracao                         96\n",
        "campanha                         1\n",
        "dias_passados                   -1\n",
        "anterior                         0\n",
        "resultado_anterior    desconhecido\n",
        "Name: 24335, dtype: object"
      ]
    },
    {
      "cell_type": "code",
      "execution_count": null,
      "metadata": {
        "id": "c2mbkRaaR2JW"
      },
      "outputs": [],
      "source": [
        ","
      ]
    },
    {
      "cell_type": "markdown",
      "metadata": {
        "id": "BZAnlbpvfu5f"
      },
      "source": [
        "##### É só o começo...\n",
        "##### Simbóra!"
      ]
    }
  ],
  "metadata": {
    "colab": {
      "collapsed_sections": [
        "H6eH92ooIb_E",
        "UBdmUt4_SREA"
      ],
      "provenance": [],
      "include_colab_link": true
    },
    "kernelspec": {
      "display_name": "Python 3",
      "name": "python3"
    },
    "language_info": {
      "codemirror_mode": {
        "name": "ipython",
        "version": 3
      },
      "file_extension": ".py",
      "mimetype": "text/x-python",
      "name": "python",
      "nbconvert_exporter": "python",
      "pygments_lexer": "ipython3",
      "version": "3.10.11"
    }
  },
  "nbformat": 4,
  "nbformat_minor": 0
}